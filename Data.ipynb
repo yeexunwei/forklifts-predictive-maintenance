{
 "cells": [
  {
   "cell_type": "code",
   "execution_count": 1,
   "metadata": {},
   "outputs": [],
   "source": [
    "import pandas as pd\n",
    "import datetime as dt\n",
    "import numpy as np\n",
    "import seaborn as sns\n",
    "import matplotlib.pyplot as plt\n",
    "%matplotlib inline"
   ]
  },
  {
   "cell_type": "code",
   "execution_count": 2,
   "metadata": {},
   "outputs": [],
   "source": [
    "df = pd.read_csv('/Users/kenghooi/Downloads/kaufland-kaufland/20180920_Kaufland_case_IoT_and_predictive_maintenance.csv', delimiter=';')\n",
    "repair_log = pd.read_excel('/Users/kenghooi/Downloads/kaufland-kaufland/20180820_Kaufland_case_IoT_and_predictive_maintenance_events.xlsx')"
   ]
  },
  {
   "cell_type": "markdown",
   "metadata": {},
   "source": [
    "<b>Datetime conversion"
   ]
  },
  {
   "cell_type": "code",
   "execution_count": 4,
   "metadata": {},
   "outputs": [],
   "source": [
    "def convert_datetime(string_):\n",
    "    try:\n",
    "        return dt.datetime.strptime(string_, '%Y-%m-%d %H:%M:%S.%f')\n",
    "    except:\n",
    "        return dt.datetime.strptime(string_, '%Y-%m-%d %H:%M:%S')"
   ]
  },
  {
   "cell_type": "code",
   "execution_count": null,
   "metadata": {},
   "outputs": [],
   "source": [
    "df['start_time'] = df['ifm_analysis_sensordata_for_datathon_final.start_timestamp'].apply(convert_datetime)\n",
    "df['end_time'] = df['ifm_analysis_sensordata_for_datathon_final.end_timestamp'].apply(convert_datetime)\n",
    "df['day_of_week'] = df['start_time'].apply(lambda x:x.strftime('%A'))"
   ]
  },
  {
   "cell_type": "code",
   "execution_count": null,
   "metadata": {},
   "outputs": [],
   "source": [
    "df = df.drop(['ifm_analysis_sensordata_for_datathon_final.start_timestamp','ifm_analysis_sensordata_for_datathon_final.end_timestamp'], axis=1)"
   ]
  },
  {
   "cell_type": "markdown",
   "metadata": {},
   "source": [
    "<b> Add Sensor Group column"
   ]
  },
  {
   "cell_type": "code",
   "execution_count": null,
   "metadata": {},
   "outputs": [],
   "source": [
    "def group_sensor(sensor_type):\n",
    "    if sensor_type.startswith('idle_wheel'):\n",
    "        return 'wheel'\n",
    "    elif sensor_type.startswith('drive_wheel'):\n",
    "        return 'wheel'\n",
    "    elif sensor_type.startswith('drive_gear'):\n",
    "        return 'driving_motor'\n",
    "    elif sensor_type.startswith('drive_motor'):\n",
    "        return 'driving_motor'\n",
    "    else:\n",
    "        return 'lift_motor'"
   ]
  },
  {
   "cell_type": "code",
   "execution_count": null,
   "metadata": {},
   "outputs": [],
   "source": [
    "df['sensor_group'] = df['ifm_analysis_sensordata_for_datathon_final.sensor_type'].apply(group_sensor)"
   ]
  }
 ],
 "metadata": {
  "kernelspec": {
   "display_name": "Python 3",
   "language": "python",
   "name": "python3"
  },
  "language_info": {
   "codemirror_mode": {
    "name": "ipython",
    "version": 3
   },
   "file_extension": ".py",
   "mimetype": "text/x-python",
   "name": "python",
   "nbconvert_exporter": "python",
   "pygments_lexer": "ipython3",
   "version": "3.6.6"
  }
 },
 "nbformat": 4,
 "nbformat_minor": 2
}
