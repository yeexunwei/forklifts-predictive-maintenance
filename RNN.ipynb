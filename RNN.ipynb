{
 "cells": [
  {
   "cell_type": "markdown",
   "metadata": {},
   "source": [
    "<font size=3>In this notebook, we demonstrate using LSTM model to run prediction on the time series data. </font>"
   ]
  },
  {
   "cell_type": "code",
   "execution_count": 3,
   "metadata": {},
   "outputs": [],
   "source": [
    "import glob\n",
    "import pandas as pd\n",
    "import numpy as np\n",
    "import matplotlib.pyplot as plt\n",
    "%matplotlib inline\n",
    "\n",
    "from sklearn import preprocessing\n",
    "from sklearn.metrics import confusion_matrix\n",
    "from sklearn.metrics import f1_score\n",
    "\n",
    "import tensorflow as tf\n",
    "from tensorflow.keras.models import Sequential\n",
    "from tensorflow.keras.models import Model\n",
    "from tensorflow.keras.layers import Input\n",
    "from tensorflow.keras.layers import LSTM, SimpleRNN\n",
    "from tensorflow.keras.layers import Dense"
   ]
  },
  {
   "cell_type": "markdown",
   "metadata": {},
   "source": [
    "Reading data"
   ]
  },
  {
   "cell_type": "code",
   "execution_count": null,
   "metadata": {},
   "outputs": [],
   "source": [
    "## ALL DATA FILES FOR IDLE_WHEEL\n",
    "files = [fn for fn in glob.glob('../new_threshold/idle_wheel_/**/*.csv', recursive=True)]"
   ]
  },
  {
   "cell_type": "code",
   "execution_count": 33,
   "metadata": {},
   "outputs": [],
   "source": [
    "## LOADING DATA (Moving Variance)\n",
    "idle_wheel_mvg_var = [pd.read_csv(file) for file in sorted(files[:7])]\n",
    "\n",
    "## LOADING DATA (Raw Data)\n",
    "idle_wheel_raw = [pd.read_csv(file) for file in sorted(files[7:])]"
   ]
  },
  {
   "cell_type": "markdown",
   "metadata": {},
   "source": [
    "Preprocessing"
   ]
  },
  {
   "cell_type": "code",
   "execution_count": 39,
   "metadata": {},
   "outputs": [],
   "source": [
    "def gen_data(lst):\n",
    "    \"\"\"\n",
    "    Accepts list of files\n",
    "    Reshape features\n",
    "    Returns data and corresponding labels\n",
    "    \"\"\"\n",
    "    features = []\n",
    "    labels = []\n",
    "    for df in lst:\n",
    "        f = np.array(df.iloc[:,1:11])\n",
    "        l = np.array(df.iloc[:,11].astype(int))\n",
    "        features.append(f)\n",
    "        labels.append(l)\n",
    "        \n",
    "        feature_output = np.concatenate(features)\n",
    "        \n",
    "    return feature_output.reshape(feature_output.shape[0], feature_output.shape[1], 1), np.concatenate(labels)\n",
    "        "
   ]
  },
  {
   "cell_type": "markdown",
   "metadata": {},
   "source": [
    "Train/Test set splitting + preprocess"
   ]
  },
  {
   "cell_type": "code",
   "execution_count": 66,
   "metadata": {},
   "outputs": [
    {
     "name": "stdout",
     "output_type": "stream",
     "text": [
      "Training set shape:  (8762, 10, 1)\n",
      "Test set shape:  (2614, 10, 1)\n"
     ]
    }
   ],
   "source": [
    "x_train, y_train = gen_data(idle_wheel_mvg_var[1:])\n",
    "print(\"Training set shape: \", x_train.shape)\n",
    "\n",
    "x_test, y_test = gen_data([idle_wheel_mvg_var[0]])\n",
    "print(\"Test set shape: \", x_test.shape)"
   ]
  },
  {
   "cell_type": "markdown",
   "metadata": {},
   "source": [
    "Model architecture"
   ]
  },
  {
   "cell_type": "code",
   "execution_count": 44,
   "metadata": {},
   "outputs": [
    {
     "name": "stdout",
     "output_type": "stream",
     "text": [
      "_________________________________________________________________\n",
      "Layer (type)                 Output Shape              Param #   \n",
      "=================================================================\n",
      "lstm (LSTM)                  (None, 100)               40800     \n",
      "_________________________________________________________________\n",
      "dense (Dense)                (None, 100)               10100     \n",
      "_________________________________________________________________\n",
      "dense_1 (Dense)              (None, 10)                1010      \n",
      "_________________________________________________________________\n",
      "dense_2 (Dense)              (None, 1)                 11        \n",
      "=================================================================\n",
      "Total params: 51,921\n",
      "Trainable params: 51,921\n",
      "Non-trainable params: 0\n",
      "_________________________________________________________________\n",
      "None\n"
     ]
    }
   ],
   "source": [
    "model = Sequential()\n",
    "model.add(LSTM(100, input_shape=(10,1)))\n",
    "model.add(Dense(100, activation='relu'))\n",
    "model.add(Dense(10, activation='relu'))\n",
    "model.add(Dense(1, activation='sigmoid'))\n",
    "model.compile(loss='binary_crossentropy', optimizer='adam')\n",
    "print(model.summary())"
   ]
  },
  {
   "cell_type": "markdown",
   "metadata": {},
   "source": [
    "Training"
   ]
  },
  {
   "cell_type": "code",
   "execution_count": 45,
   "metadata": {},
   "outputs": [
    {
     "name": "stdout",
     "output_type": "stream",
     "text": [
      "Epoch 1/10\n",
      "8762/8762 [==============================] - 5s 580us/step - loss: 0.1379\n",
      "Epoch 2/10\n",
      "8762/8762 [==============================] - 4s 447us/step - loss: 0.0335\n",
      "Epoch 3/10\n",
      "8762/8762 [==============================] - 4s 441us/step - loss: 0.0366\n",
      "Epoch 4/10\n",
      "8762/8762 [==============================] - 4s 443us/step - loss: 0.0313\n",
      "Epoch 5/10\n",
      "8762/8762 [==============================] - 4s 445us/step - loss: 0.0307\n",
      "Epoch 6/10\n",
      "8762/8762 [==============================] - 4s 446us/step - loss: 0.0311\n",
      "Epoch 7/10\n",
      "8762/8762 [==============================] - 4s 441us/step - loss: 0.0321\n",
      "Epoch 8/10\n",
      "8762/8762 [==============================] - 4s 439us/step - loss: 0.0373\n",
      "Epoch 9/10\n",
      "8762/8762 [==============================] - 4s 448us/step - loss: 0.0292\n",
      "Epoch 10/10\n",
      "8762/8762 [==============================] - 4s 441us/step - loss: 0.0289\n"
     ]
    },
    {
     "data": {
      "text/plain": [
       "<tensorflow.python.keras.callbacks.History at 0x1a25a52eb8>"
      ]
     },
     "execution_count": 45,
     "metadata": {},
     "output_type": "execute_result"
    }
   ],
   "source": [
    "model.fit(x_train, y_train, epochs=10)"
   ]
  },
  {
   "cell_type": "code",
   "execution_count": 46,
   "metadata": {},
   "outputs": [],
   "source": [
    "pred_train = model.predict(x_train)\n",
    "pred_train = pred_train.round()"
   ]
  },
  {
   "cell_type": "code",
   "execution_count": 47,
   "metadata": {},
   "outputs": [],
   "source": [
    "def predict_plot(raw, pred, actual, title, axes):\n",
    "    \"\"\"\n",
    "    \"\"\"\n",
    "    raw['realvalue'].plot(ax=axes)\n",
    "    raw['Moving_variance'].plot(ax=axes)\n",
    "    pd.Series(pred['pred_conc']).plot(ax=axes )\n",
    "    pd.Series(actual).plot(ax=axes)\n",
    "    axes.set_title('%s \\n Accuracy: %f F1: %f'% (title, pred['acc'],pred['f1']) + '\\n tn: %2.f fp: %2.f fn: %2.f tp: %2.f' % (pred['conf_mat'][0], pred['conf_mat'][1], pred['conf_mat'][2],pred['conf_mat'][3] ) )\n",
    "    axes.legend(['raw data', 'moving variance', 'prediction', 'actual label'],loc='upper right')"
   ]
  },
  {
   "cell_type": "code",
   "execution_count": 48,
   "metadata": {},
   "outputs": [
    {
     "data": {
      "text/plain": [
       "((8762, 1), (8762,))"
      ]
     },
     "execution_count": 48,
     "metadata": {},
     "output_type": "execute_result"
    }
   ],
   "source": [
    "pred_train.shape, y_train.shape"
   ]
  },
  {
   "cell_type": "code",
   "execution_count": 49,
   "metadata": {},
   "outputs": [],
   "source": [
    "y_train = y_train.reshape(-1,1)"
   ]
  },
  {
   "cell_type": "code",
   "execution_count": 50,
   "metadata": {},
   "outputs": [
    {
     "data": {
      "text/plain": [
       "8708"
      ]
     },
     "execution_count": 50,
     "metadata": {},
     "output_type": "execute_result"
    }
   ],
   "source": [
    "(pred_train == y_train).sum()"
   ]
  },
  {
   "cell_type": "code",
   "execution_count": 51,
   "metadata": {},
   "outputs": [
    {
     "data": {
      "text/plain": [
       "8762"
      ]
     },
     "execution_count": 51,
     "metadata": {},
     "output_type": "execute_result"
    }
   ],
   "source": [
    "len(pred_train)"
   ]
  },
  {
   "cell_type": "code",
   "execution_count": 52,
   "metadata": {},
   "outputs": [
    {
     "data": {
      "text/plain": [
       "2588"
      ]
     },
     "execution_count": 52,
     "metadata": {},
     "output_type": "execute_result"
    }
   ],
   "source": [
    "pred_test = model.predict(x_test)\n",
    "pred_test = pred_test.round()\n",
    "\n",
    "(pred_test == y_test.reshape(-1,1)).sum()"
   ]
  },
  {
   "cell_type": "code",
   "execution_count": 63,
   "metadata": {},
   "outputs": [
    {
     "name": "stdout",
     "output_type": "stream",
     "text": [
      "2614\n",
      "2624\n"
     ]
    }
   ],
   "source": [
    "print(len(y_test))\n",
    "print(len(pred_test))"
   ]
  },
  {
   "cell_type": "code",
   "execution_count": 64,
   "metadata": {},
   "outputs": [
    {
     "name": "stdout",
     "output_type": "stream",
     "text": [
      "[0, 0, 0, 0, 0, 0, 0, 0, 0, 0]\n"
     ]
    }
   ],
   "source": [
    "l = [0 for i in range(10)]\n",
    "print(l)"
   ]
  },
  {
   "cell_type": "code",
   "execution_count": 56,
   "metadata": {},
   "outputs": [],
   "source": [
    "pred_test = np.concatenate([np.zeros(10),pred_test.flatten()])"
   ]
  },
  {
   "cell_type": "markdown",
   "metadata": {},
   "source": [
    "Predict & Evaluate"
   ]
  },
  {
   "cell_type": "code",
   "execution_count": 57,
   "metadata": {},
   "outputs": [],
   "source": [
    "def predict(model, test_data, test_label):\n",
    "    pred = model.predict(test_data)\n",
    "    pred = pred.round()\n",
    "    try:\n",
    "        tn, fp, fn, tp = confusion_matrix(pred.flatten(), test_label).ravel()\n",
    "    except:\n",
    "        tn = 0\n",
    "        fp = 0\n",
    "        fn = 0\n",
    "        tp = 0\n",
    "    \n",
    "    acc = (pred.flatten() == test_label.flatten()).sum()/ len(test_label)\n",
    "    f1 = f1_score(pred, test_label)  \n",
    "    pred_conc = np.concatenate([np.zeros(10),pred.flatten()])\n",
    "    return {\n",
    "        'pred': pred.flatten(),\n",
    "        'pred_conc':pred_conc,\n",
    "        'conf_mat': (tn, fp, fn, tp),\n",
    "        'acc': acc,\n",
    "        'f1': f1\n",
    "    }\n",
    "    \n",
    "    \n",
    "    "
   ]
  },
  {
   "cell_type": "code",
   "execution_count": 58,
   "metadata": {},
   "outputs": [],
   "source": [
    "pred_1 = predict(model, x_test, y_test)"
   ]
  },
  {
   "cell_type": "markdown",
   "metadata": {},
   "source": [
    "Visualisation"
   ]
  },
  {
   "cell_type": "code",
   "execution_count": 61,
   "metadata": {},
   "outputs": [
    {
     "data": {
      "text/plain": [
       "<matplotlib.axes._subplots.AxesSubplot at 0x11e4a6a58>"
      ]
     },
     "execution_count": 61,
     "metadata": {},
     "output_type": "execute_result"
    },
    {
     "data": {
      "image/png": "[encoded data removed]",
      "text/plain": [
       "<Figure size 432x288 with 1 Axes>"
      ]
     },
     "metadata": {},
     "output_type": "display_data"
    }
   ],
   "source": [
    "idle_wheel_raw[0]['realvalue'].plot()\n",
    "pd.Series(pred_test).plot()"
   ]
  },
  {
   "cell_type": "code",
   "execution_count": 62,
   "metadata": {},
   "outputs": [
    {
     "data": {
      "image/png": "[encoded data removed]",
      "text/plain": [
       "<Figure size 504x360 with 1 Axes>"
      ]
     },
     "metadata": {},
     "output_type": "display_data"
    }
   ],
   "source": [
    "fig, axes = plt.subplots(nrows=1, ncols=1,figsize=(7,5))\n",
    "predict_plot(idle_wheel_raw[0], pred_1, y_test, 'Idle wheel RBG1', axes)"
   ]
  }
 ],
 "metadata": {
  "kernelspec": {
   "display_name": "Python 3",
   "language": "python",
   "name": "python3"
  },
  "language_info": {
   "codemirror_mode": {
    "name": "ipython",
    "version": 3
   },
   "file_extension": ".py",
   "mimetype": "text/x-python",
   "name": "python",
   "nbconvert_exporter": "python",
   "pygments_lexer": "ipython3",
   "version": "3.6.6"
  }
 },
 "nbformat": 4,
 "nbformat_minor": 2
}
